{
 "cells": [
  {
   "cell_type": "code",
   "execution_count": 11,
   "metadata": {},
   "outputs": [
    {
     "name": "stderr",
     "output_type": "stream",
     "text": [
      "┌ Warning: `setindex!(df::DataFrame, v::AbstractVector, col_ind::ColumnIndex)` is deprecated, use `begin\n",
      "│     df[!, col_ind] = v\n",
      "│     df\n",
      "│ end` instead.\n",
      "│   caller = top-level scope at Experiment.jl:25\n",
      "└ @ Core /home/jake/Projects/gp-experiment/Experiment.jl:25\n"
     ]
    },
    {
     "data": {
      "text/plain": [
       "main (generic function with 2 methods)"
      ]
     },
     "execution_count": 11,
     "metadata": {},
     "output_type": "execute_result"
    }
   ],
   "source": [
    "include(\"Experiment.jl\")"
   ]
  },
  {
   "cell_type": "code",
   "execution_count": 12,
   "metadata": {},
   "outputs": [
    {
     "data": {
      "text/plain": [
       "4"
      ]
     },
     "execution_count": 12,
     "metadata": {},
     "output_type": "execute_result"
    }
   ],
   "source": [
    "POPSIZE = 6\n",
    "mu = 2\n",
    "lambda = 4\n",
    "TARGETCALORIES = 2500\n",
    "CANDIDATESIZE = 4"
   ]
  },
  {
   "cell_type": "code",
   "execution_count": 13,
   "metadata": {},
   "outputs": [
    {
     "name": "stderr",
     "output_type": "stream",
     "text": [
      "┌ Warning: `getindex(df::DataFrame, col_ind::ColumnIndex)` is deprecated, use `df[!, col_ind]` instead.\n",
      "│   caller = fitness(::DataFrames.DataFrame) at Experiment.jl:67\n",
      "└ @ Main /home/jake/Projects/gp-experiment/Experiment.jl:67\n"
     ]
    },
    {
     "data": {
      "text/plain": [
       "Dict{Integer,Float64} with 11 entries:\n",
       "  2  => 220.0\n",
       "  11 => 20.0\n",
       "  7  => 20.0\n",
       "  9  => 20.0\n",
       "  10 => 20.0\n",
       "  8  => 20.0\n",
       "  6  => 70.0\n",
       "  4  => 70.0\n",
       "  3  => 70.0\n",
       "  5  => 70.0\n",
       "  1  => 330.0"
      ]
     },
     "execution_count": 13,
     "metadata": {},
     "output_type": "execute_result"
    }
   ],
   "source": [
    "main(10)"
   ]
  },
  {
   "cell_type": "code",
   "execution_count": null,
   "metadata": {},
   "outputs": [],
   "source": []
  }
 ],
 "metadata": {
  "kernelspec": {
   "display_name": "Julia 1.1.1",
   "language": "julia",
   "name": "julia-1.1"
  },
  "language_info": {
   "file_extension": ".jl",
   "mimetype": "application/julia",
   "name": "julia",
   "version": "1.1.1"
  }
 },
 "nbformat": 4,
 "nbformat_minor": 2
}
